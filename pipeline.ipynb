{
 "cells": [
  {
   "cell_type": "code",
   "execution_count": 26,
   "id": "40b2fb60-30d4-4228-a7f2-b38176d03388",
   "metadata": {},
   "outputs": [],
   "source": [
    "import tensorflow as tf\n",
    "import numpy as np\n",
    "from tensorflow.python.lib.io import file_io\n",
    "import os\n",
    "\n",
    "mnist = tf.keras.datasets.mnist\n",
    "(train_x, train_y), (test_x, test_y) = mnist.load_data()"
   ]
  },
  {
   "cell_type": "code",
   "execution_count": 32,
   "id": "40fd2a04-9237-4e3d-ae61-818bb680939d",
   "metadata": {},
   "outputs": [],
   "source": [
    "BUCKET_DIR = \"gs://suwan_bucket\"\n",
    "DATASET_DIR = \"mnist_data\""
   ]
  },
  {
   "cell_type": "code",
   "execution_count": 33,
   "id": "52db581e-591a-4368-8b84-02cbbe363c3b",
   "metadata": {},
   "outputs": [],
   "source": [
    "np.save(file_io.FileIO(os.path.join(BUCKET_DIR, DATASET_DIR, \"train_x.npy\"), 'w'), train_x)\n",
    "np.save(file_io.FileIO(os.path.join(BUCKET_DIR, DATASET_DIR, \"train_y.npy\"), 'w'), train_y)\n",
    "np.save(file_io.FileIO(os.path.join(BUCKET_DIR, DATASET_DIR, \"test_x.npy\"), 'w'), test_x)\n",
    "np.save(file_io.FileIO(os.path.join(BUCKET_DIR, DATASET_DIR, \"test_y.npy\"), 'w'), test_y)"
   ]
  },
  {
   "cell_type": "code",
   "execution_count": null,
   "id": "ee177718-6a51-46fc-a58d-90cd577d6956",
   "metadata": {},
   "outputs": [],
   "source": []
  }
 ],
 "metadata": {
  "environment": {
   "name": "common-cpu.m81",
   "type": "gcloud",
   "uri": "gcr.io/deeplearning-platform-release/base-cpu:m81"
  },
  "kernelspec": {
   "display_name": "Python 3",
   "language": "python",
   "name": "python3"
  },
  "language_info": {
   "codemirror_mode": {
    "name": "ipython",
    "version": 3
   },
   "file_extension": ".py",
   "mimetype": "text/x-python",
   "name": "python",
   "nbconvert_exporter": "python",
   "pygments_lexer": "ipython3",
   "version": "3.7.10"
  }
 },
 "nbformat": 4,
 "nbformat_minor": 5
}
